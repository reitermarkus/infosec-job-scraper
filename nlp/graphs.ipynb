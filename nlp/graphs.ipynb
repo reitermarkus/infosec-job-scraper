{
 "cells": [
  {
   "cell_type": "code",
   "execution_count": null,
   "metadata": {},
   "outputs": [],
   "source": [
    "import json\n",
    "import os\n",
    "\n",
    "import plotly.graph_objects as go\n",
    "import plotly.express as px\n",
    "import pandas as pd\n",
    "\n",
    "\n",
    "with open(os.path.join(os.path.join(os.path.dirname(os.path.abspath('')), 'results'), 'all.json')) as file:\n",
    "  results = json.load(file)"
   ]
  },
  {
   "cell_type": "code",
   "execution_count": null,
   "metadata": {},
   "outputs": [],
   "source": [
    "education_results = [result['degrees'] for result in results]\n",
    "\n",
    "education_counts = {}\n",
    "\n",
    "for result in education_results:\n",
    "  for degree in result:\n",
    "    education_counts[degree] = education_counts.get(degree, 0) + 1\n",
    "\n",
    "education_data = pd.DataFrame({'education_type': list(education_counts.keys()), 'count': list(education_counts.values())})\n",
    "education_data"
   ]
  },
  {
   "cell_type": "code",
   "execution_count": null,
   "metadata": {},
   "outputs": [],
   "source": [
    "education_graph_title = 'Level of Education needed for InfoSec Jobs'"
   ]
  },
  {
   "cell_type": "code",
   "execution_count": null,
   "metadata": {},
   "outputs": [],
   "source": [
    "fig = px.bar(education_data, x='education_type', y='count', color='education_type', title=education_graph_title)\n",
    "fig.write_image('education-bar-chart.pdf')\n",
    "fig.show()"
   ]
  },
  {
   "cell_type": "code",
   "execution_count": null,
   "metadata": {
    "scrolled": false
   },
   "outputs": [],
   "source": [
    "fig = px.pie(education_data, labels='education_type', values='count', color='education_type', title=education_graph_title)\n",
    "fig.write_image('education-pie-chart.pdf')\n",
    "fig.show()"
   ]
  }
 ],
 "metadata": {
  "kernelspec": {
   "display_name": "Python 3",
   "language": "python",
   "name": "python3"
  },
  "language_info": {
   "codemirror_mode": {
    "name": "ipython",
    "version": 3
   },
   "file_extension": ".py",
   "mimetype": "text/x-python",
   "name": "python",
   "nbconvert_exporter": "python",
   "pygments_lexer": "ipython3",
   "version": "3.7.7"
  }
 },
 "nbformat": 4,
 "nbformat_minor": 4
}
