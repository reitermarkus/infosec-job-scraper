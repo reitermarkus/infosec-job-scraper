{
 "cells": [
  {
   "cell_type": "code",
   "execution_count": null,
   "metadata": {},
   "outputs": [],
   "source": [
    "from IPython.display import display\n",
    "\n",
    "import json\n",
    "import os\n",
    "\n",
    "import plotly.graph_objects as go\n",
    "import plotly.express as px\n",
    "import pandas as pd\n",
    "\n",
    "nlp_dir = os.path.abspath('')\n",
    "assets_dir = os.path.join(os.path.dirname(nlp_dir), 'paper', 'assets')\n",
    "os.makedirs(assets_dir, exist_ok=True)"
   ]
  },
  {
   "cell_type": "code",
   "execution_count": null,
   "metadata": {},
   "outputs": [],
   "source": [
    "with open(os.path.join(os.path.join(os.path.dirname(nlp_dir), 'results'), 'all.json')) as file:\n",
    "  results = json.load(file)\n",
    "df = pd.DataFrame(results)\n",
    "\n",
    "# Normalize to monthly salary.\n",
    "df[['salary']] = df[['salary']].applymap(lambda salaries: [v if v < 15000 else v / 12 for v in salaries])\n",
    "\n",
    "df[['cities']] = df[['location']].applymap(lambda v: v['cities'])\n",
    "df[['states']] = df[['location']].applymap(lambda v: v['states'])\n",
    "df = df.drop(columns=['location'])"
   ]
  },
  {
   "cell_type": "code",
   "execution_count": null,
   "metadata": {},
   "outputs": [],
   "source": [
    "def occurrences(df, col, name):\n",
    "  results = pd.Series([value for values in df[col] for value in values]).value_counts(sort=True)\n",
    "  return pd.DataFrame({name: results.index, 'Count': results.values})"
   ]
  },
  {
   "cell_type": "code",
   "execution_count": null,
   "metadata": {},
   "outputs": [],
   "source": [
    "len(df)"
   ]
  },
  {
   "cell_type": "code",
   "execution_count": null,
   "metadata": {},
   "outputs": [],
   "source": [
    "certifications_result = occurrences(df, 'certifications', 'Certification')\n",
    "certifications_result"
   ]
  },
  {
   "cell_type": "code",
   "execution_count": null,
   "metadata": {},
   "outputs": [],
   "source": [
    "fig = px.bar(\n",
    "  certifications_result.sort_values(by='Count'), \n",
    "  x='Certification', \n",
    "  y='Count', \n",
    "  color='Certification', \n",
    "  title='Certifications - Total',\n",
    "  text='Count'\n",
    ")\n",
    "fig.update_traces(textposition='outside')\n",
    "fig.write_image(os.path.join(assets_dir, 'certifications-bar-chart.pdf'))\n",
    "\n",
    "fig.show()"
   ]
  },
  {
   "cell_type": "code",
   "execution_count": null,
   "metadata": {
    "scrolled": true
   },
   "outputs": [],
   "source": [
    "df[['avg_salary']] = df[['salary']].applymap(lambda v: sum(v) / len(v) if v else None)\n",
    "df[['max_salary']] = df[['salary']].applymap(lambda v: max(v) if v else None)\n",
    "df.sort_values(by='max_salary', ascending=False).head(50)\n",
    "\n",
    "average_salary = df.explode('states')[['states', 'avg_salary']].groupby('states').mean().reset_index().sort_values(by='avg_salary')\n",
    "average_salary"
   ]
  },
  {
   "cell_type": "code",
   "execution_count": null,
   "metadata": {},
   "outputs": [],
   "source": [
    "fig = px.bar(\n",
    "  average_salary, \n",
    "  x='states', \n",
    "  y='avg_salary', \n",
    "  color='states', \n",
    "  title='Average Salary',\n",
    "  text=round(average_salary['avg_salary']),\n",
    ")\n",
    "fig.update_traces(textposition='outside')\n",
    "fig.write_image(os.path.join(assets_dir, 'average-salary-bar-chart.pdf'))\n",
    "fig.show()"
   ]
  },
  {
   "cell_type": "code",
   "execution_count": null,
   "metadata": {},
   "outputs": [],
   "source": [
    "employment_type_result = occurrences(df, 'employment_type', 'Employment Type')\n",
    "employment_type_result"
   ]
  },
  {
   "cell_type": "code",
   "execution_count": null,
   "metadata": {},
   "outputs": [],
   "source": [
    "fig = px.bar(\n",
    "  employment_type_result.sort_values(by='Count'), \n",
    "  x='Employment Type', \n",
    "  y='Count', \n",
    "  color='Employment Type', \n",
    "  title='Employment Type',\n",
    "  text='Count'\n",
    ")\n",
    "fig.update_traces(textposition='outside')\n",
    "fig.write_image(os.path.join(assets_dir, 'employment-type-bar-chart.pdf'))\n",
    "\n",
    "fig.show()"
   ]
  },
  {
   "cell_type": "code",
   "execution_count": null,
   "metadata": {
    "scrolled": true
   },
   "outputs": [],
   "source": [
    "occurrences(df, 'experience', 'Experience').head(50)"
   ]
  },
  {
   "cell_type": "code",
   "execution_count": null,
   "metadata": {
    "scrolled": false
   },
   "outputs": [],
   "source": [
    "occurrences(df, 'cities', 'City')"
   ]
  },
  {
   "cell_type": "code",
   "execution_count": null,
   "metadata": {},
   "outputs": [],
   "source": [
    "state_count = occurrences(df, 'states', 'State')\n",
    "\n",
    "with open(os.path.join(nlp_dir, 'state_population.json')) as file:\n",
    "  state_population = json.load(file)\n",
    "\n",
    "state_population = pd.DataFrame(state_population.items(), columns=['State', 'Population'])\n",
    "\n",
    "state_result = pd.merge(state_count, state_population, left_on='State', right_on='State')\n",
    "state_result\n",
    "\n",
    "state_result['Count per Capita'] = state_result['Count'] / state_result['Population']\n",
    "\n",
    "state_result"
   ]
  },
  {
   "cell_type": "code",
   "execution_count": null,
   "metadata": {},
   "outputs": [],
   "source": [
    "fig = px.bar(\n",
    "  state_result.sort_values(by='Count'), \n",
    "  x='State', \n",
    "  y='Count', \n",
    "  color='State', \n",
    "  title='State Distribution - Total',\n",
    "  text='Count'\n",
    ")\n",
    "fig.update_traces(textposition='outside')\n",
    "fig.write_image(os.path.join(assets_dir, 'location-bar-chart.pdf'))\n",
    "\n",
    "fig.show()"
   ]
  },
  {
   "cell_type": "code",
   "execution_count": null,
   "metadata": {},
   "outputs": [],
   "source": [
    "data = state_result.sort_values(by='Count per Capita')\n",
    "fig = px.bar(\n",
    "  data,\n",
    "  x='State',\n",
    "  y='Count per Capita',\n",
    "  color='State',\n",
    "  title='State Distribution - Normalized to Population',\n",
    "  text=round(data['Count per Capita'] * 10000000) / 10,\n",
    ")\n",
    "fig.update_traces(textposition='outside')\n",
    "fig.write_image(os.path.join(assets_dir, 'location-per-capita-bar-chart.pdf'))\n",
    "fig.show()"
   ]
  },
  {
   "cell_type": "code",
   "execution_count": null,
   "metadata": {},
   "outputs": [],
   "source": []
  },
  {
   "cell_type": "code",
   "execution_count": null,
   "metadata": {},
   "outputs": [],
   "source": [
    "education_results = [['unknown'] if not degrees else degrees for degrees in list(df['degrees'])]\n",
    "education_counts = pd.Series([value for values in education_results for value in values]).value_counts(sort=True)\n",
    "\n",
    "\n",
    "education_data = pd.DataFrame({'education_type': education_counts.index, 'count': education_counts.values})\n",
    "education_data"
   ]
  },
  {
   "cell_type": "code",
   "execution_count": null,
   "metadata": {},
   "outputs": [],
   "source": [
    "education_graph_title = 'Level of Education needed for InfoSec Jobs'"
   ]
  },
  {
   "cell_type": "code",
   "execution_count": null,
   "metadata": {},
   "outputs": [],
   "source": [
    "fig = px.bar(education_data, x='education_type', y='count', color='education_type', title=education_graph_title, labels={'count': 'Count', 'education_type':'Type of Education'})\n",
    "fig.write_image(os.path.join(assets_dir, 'education-bar-chart.pdf'))\n",
    "fig.show()"
   ]
  },
  {
   "cell_type": "code",
   "execution_count": null,
   "metadata": {
    "scrolled": false
   },
   "outputs": [],
   "source": [
    "fig = px.pie(education_data, labels='education_type', values='count', color='education_type', title=education_graph_title)\n",
    "fig.write_image(os.path.join(assets_dir, 'education-pie-chart.pdf'))\n",
    "fig.show()"
   ]
  }
 ],
 "metadata": {
  "kernelspec": {
   "display_name": "Python 3",
   "language": "python",
   "name": "python3"
  },
  "language_info": {
   "codemirror_mode": {
    "name": "ipython",
    "version": 3
   },
   "file_extension": ".py",
   "mimetype": "text/x-python",
   "name": "python",
   "nbconvert_exporter": "python",
   "pygments_lexer": "ipython3",
   "version": "3.7.7"
  }
 },
 "nbformat": 4,
 "nbformat_minor": 4
}
