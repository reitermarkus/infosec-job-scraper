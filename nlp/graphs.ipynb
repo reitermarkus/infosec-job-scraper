{
 "cells": [
  {
   "cell_type": "code",
   "execution_count": null,
   "metadata": {},
   "outputs": [],
   "source": [
    "from IPython.display import display\n",
    "\n",
    "import json\n",
    "import os\n",
    "\n",
    "import plotly.graph_objects as go\n",
    "import plotly.express as px\n",
    "import pandas as pd\n",
    "\n",
    "nlp_dir = os.path.abspath('')\n",
    "assets_dir = os.path.join(os.path.dirname(nlp_dir), 'tex', 'assets')\n",
    "os.makedirs(assets_dir, exist_ok=True)"
   ]
  },
  {
   "cell_type": "code",
   "execution_count": null,
   "metadata": {},
   "outputs": [],
   "source": [
    "with open(os.path.join(os.path.join(os.path.dirname(nlp_dir), 'results'), 'all.json')) as file:\n",
    "  results = json.load(file)\n",
    "df = pd.DataFrame(results)\n",
    "\n",
    "# Normalize to monthly salary.\n",
    "df[['salary']] = df[['salary']].applymap(lambda salaries: [v if v < 15000 else v / 12 for v in salaries])\n",
    "\n",
    "df[['cities']] = df[['location']].applymap(lambda v: v['cities'])\n",
    "df[['states']] = df[['location']].applymap(lambda v: v['states'])\n",
    "df = df.drop(columns=['location'])"
   ]
  },
  {
   "cell_type": "code",
   "execution_count": null,
   "metadata": {},
   "outputs": [],
   "source": [
    "def occurrences(df, col, name):\n",
    "  results = pd.Series([value for values in df[col] for value in values]).value_counts(sort=True)\n",
    "  return pd.DataFrame({name: results.index, 'Count': results.values})"
   ]
  },
  {
   "cell_type": "code",
   "execution_count": null,
   "metadata": {},
   "outputs": [],
   "source": [
    "lang_data = pd.Series([l for l in df['language']]).value_counts(sort=True)\n",
    "lang_results = pd.DataFrame({'Language': lang_data.index, 'Count': lang_data.values})"
   ]
  },
  {
   "cell_type": "code",
   "execution_count": null,
   "metadata": {},
   "outputs": [],
   "source": [
    "fig = px.pie(\n",
    "  lang_results,\n",
    "  labels='Language',\n",
    "  values='Count',\n",
    "  color='Language',\n",
    ")\n",
    "fig.update_layout(plot_bgcolor='rgba(0,0,0,0)', paper_bgcolor='rgba(0,0,0,0)')\n",
    "fig.write_image(os.path.join(assets_dir, 'language-pie-chart.pdf'), width=800, height=480)\n",
    "fig.show()"
   ]
  },
  {
   "cell_type": "code",
   "execution_count": null,
   "metadata": {},
   "outputs": [],
   "source": [
    "total_count = len(df)\n",
    "total_count"
   ]
  },
  {
   "cell_type": "code",
   "execution_count": null,
   "metadata": {},
   "outputs": [],
   "source": [
    "certifications_result = occurrences(df, 'certifications', 'Certification')\n",
    "certifications_result"
   ]
  },
  {
   "cell_type": "code",
   "execution_count": null,
   "metadata": {},
   "outputs": [],
   "source": [
    "total_certifications = sum([1 if c else 0 for c in df['certifications']])\n",
    "total_certifications"
   ]
  },
  {
   "cell_type": "code",
   "execution_count": null,
   "metadata": {},
   "outputs": [],
   "source": [
    "fig = px.bar(\n",
    "  certifications_result.sort_values(by='Count'), \n",
    "  x='Certification', \n",
    "  y='Count', \n",
    "  color='Certification', \n",
    "  text='Count'\n",
    ")\n",
    "fig.update_traces(textposition='outside')\n",
    "fig.update_layout(plot_bgcolor='rgba(0,0,0,0)', paper_bgcolor='rgba(0,0,0,0)')\n",
    "fig.write_image(os.path.join(assets_dir, 'certifications-bar-chart.pdf'), width=800, height=480)\n",
    "fig.show()"
   ]
  },
  {
   "cell_type": "code",
   "execution_count": null,
   "metadata": {},
   "outputs": [],
   "source": [
    "df[['avg_salary']] = df[['salary']].applymap(lambda v: sum(v) / len(v) if v else None)\n",
    "df[['max_salary']] = df[['salary']].applymap(lambda v: max(v) if v else None)\n",
    "\n",
    "average_salary = df.explode('states')[['states', 'avg_salary']].groupby('states').mean().reset_index().sort_values(by='avg_salary')\n",
    "average_salary"
   ]
  },
  {
   "cell_type": "code",
   "execution_count": null,
   "metadata": {},
   "outputs": [],
   "source": [
    "total_average_salary = df['avg_salary'].dropna().mean()\n",
    "total_average_salary"
   ]
  },
  {
   "cell_type": "code",
   "execution_count": null,
   "metadata": {},
   "outputs": [],
   "source": [
    "fig = px.bar(\n",
    "  average_salary.rename(columns={\"avg_salary\": \"Average Salary\", \"states\": \"State\"}), \n",
    "  x='State', \n",
    "  y='Average Salary', \n",
    "  color='State', \n",
    "  text=round(average_salary['avg_salary']),\n",
    ")\n",
    "fig.update_traces(textposition='outside')\n",
    "fig.update_layout(plot_bgcolor='rgba(0,0,0,0)', paper_bgcolor='rgba(0,0,0,0)')\n",
    "fig.write_image(os.path.join(assets_dir, 'average-salary-bar-chart.pdf'), width=800, height=480)\n",
    "fig.show()"
   ]
  },
  {
   "cell_type": "code",
   "execution_count": null,
   "metadata": {},
   "outputs": [],
   "source": [
    "employment_type_result = pd.Series([value for values in df['employment_type'] for value in values]).value_counts(sort=True).to_dict()\n",
    "\n",
    "for key in ['full-time', 'part-time', 'permanent', 'temporary']:\n",
    "  if not key in employment_type_result:\n",
    "    employment_type_result[key] = 0\n",
    "\n",
    "employment_type_result"
   ]
  },
  {
   "cell_type": "code",
   "execution_count": null,
   "metadata": {},
   "outputs": [],
   "source": [
    "data = employment_type_result\n",
    "\n",
    "full_time_part_time = ['full-time', 'part-time']\n",
    "full_time_part_time_data = [data[key] for key in full_time_part_time]\n",
    "\n",
    "permanent_temporary = ['permanent', 'temporary']\n",
    "permanent_temporary_data = [data[key] for key in permanent_temporary]\n",
    "\n",
    "fig = go.Figure(\n",
    "  data=[\n",
    "    go.Bar(name='full-time vs. part-time', x=full_time_part_time, y=full_time_part_time_data, text=full_time_part_time_data),\n",
    "    go.Bar(name='permanent vs. temporary', x=permanent_temporary, y=permanent_temporary_data, text=permanent_temporary_data),\n",
    "  ]\n",
    ")\n",
    "fig.update_traces(textposition='outside')\n",
    "fig.update_layout(barmode='group')\n",
    "fig.update_layout(plot_bgcolor='rgba(0,0,0,0)', paper_bgcolor='rgba(0,0,0,0)')\n",
    "fig.write_image(os.path.join(assets_dir, 'employment-type-bar-chart.pdf'), width=800, height=480)\n",
    "fig.show()"
   ]
  },
  {
   "cell_type": "code",
   "execution_count": null,
   "metadata": {},
   "outputs": [],
   "source": [
    "occurrences(df, 'experience', 'Experience').head(50)"
   ]
  },
  {
   "cell_type": "code",
   "execution_count": null,
   "metadata": {},
   "outputs": [],
   "source": [
    "occurrences(df, 'cities', 'City')"
   ]
  },
  {
   "cell_type": "code",
   "execution_count": null,
   "metadata": {},
   "outputs": [],
   "source": [
    "state_count = occurrences(df, 'states', 'State')\n",
    "\n",
    "with open(os.path.join(nlp_dir, 'state_population.json')) as file:\n",
    "  state_population = json.load(file)\n",
    "\n",
    "state_population = pd.DataFrame(state_population.items(), columns=['State', 'Population'])\n",
    "\n",
    "state_result = pd.merge(state_count, state_population, left_on='State', right_on='State')\n",
    "state_result\n",
    "\n",
    "state_result['Count per Capita'] = state_result['Count'] / state_result['Population']\n",
    "\n",
    "state_result"
   ]
  },
  {
   "cell_type": "code",
   "execution_count": null,
   "metadata": {},
   "outputs": [],
   "source": [
    "fig = px.bar(\n",
    "  state_result.sort_values(by='Count'), \n",
    "  x='State', \n",
    "  y='Count', \n",
    "  color='State', \n",
    "  text='Count'\n",
    ")\n",
    "fig.update_traces(textposition='outside')\n",
    "fig.update_layout(plot_bgcolor='rgba(0,0,0,0)', paper_bgcolor='rgba(0,0,0,0)')\n",
    "fig.write_image(os.path.join(assets_dir, 'location-bar-chart.pdf'), width=800, height=480)\n",
    "fig.show()"
   ]
  },
  {
   "cell_type": "code",
   "execution_count": null,
   "metadata": {},
   "outputs": [],
   "source": [
    "data = state_result.sort_values(by='Count per Capita')\n",
    "fig = px.bar(\n",
    "  data,\n",
    "  x='State',\n",
    "  y='Count per Capita',\n",
    "  color='State',\n",
    "  text=round(data['Count per Capita'] * 10000000) / 10,\n",
    ")\n",
    "fig.update_traces(textposition='outside')\n",
    "fig.update_layout(plot_bgcolor='rgba(0,0,0,0)', paper_bgcolor='rgba(0,0,0,0)')\n",
    "fig.write_image(os.path.join(assets_dir, 'location-per-capita-bar-chart.pdf'), width=800, height=480)\n",
    "fig.show()"
   ]
  },
  {
   "cell_type": "code",
   "execution_count": null,
   "metadata": {},
   "outputs": [],
   "source": [
    "education_data = occurrences(df, 'education_type', 'Education Type')\n",
    "\n",
    "education_data['Percentage'] = education_data['Count'] / total_count\n",
    "\n",
    "education_data"
   ]
  },
  {
   "cell_type": "code",
   "execution_count": null,
   "metadata": {},
   "outputs": [],
   "source": [
    "fig = px.bar(\n",
    "  education_data,\n",
    "  x='Education Type',\n",
    "  y='Count',\n",
    "  color='Education Type',\n",
    "  text=education_data['Percentage'].map(lambda n: '{:.1%}'.format(n)),\n",
    ")\n",
    "fig.update_traces(textposition='outside')\n",
    "fig.update_layout(plot_bgcolor='rgba(0,0,0,0)', paper_bgcolor='rgba(0,0,0,0)')\n",
    "fig.write_image(os.path.join(assets_dir, 'education-bar-chart.pdf'), width=800, height=480)\n",
    "fig.show()"
   ]
  },
  {
   "cell_type": "code",
   "execution_count": null,
   "metadata": {},
   "outputs": [],
   "source": [
    "fig = px.pie(\n",
    "  education_data,\n",
    "  labels='Education Type',\n",
    "  values='Count',\n",
    "  color='Education Type',\n",
    ")\n",
    "fig.update_layout(plot_bgcolor='rgba(0,0,0,0)', paper_bgcolor='rgba(0,0,0,0)')\n",
    "fig.write_image(os.path.join(assets_dir, 'education-pie-chart.pdf'), width=800, height=480)\n",
    "fig.show()"
   ]
  }
 ],
 "metadata": {
  "kernelspec": {
   "display_name": "Python 3",
   "language": "python",
   "name": "python3"
  },
  "language_info": {
   "codemirror_mode": {
    "name": "ipython",
    "version": 3
   },
   "file_extension": ".py",
   "mimetype": "text/x-python",
   "name": "python",
   "nbconvert_exporter": "python",
   "pygments_lexer": "ipython3",
   "version": "3.7.7"
  }
 },
 "nbformat": 4,
 "nbformat_minor": 4
}
